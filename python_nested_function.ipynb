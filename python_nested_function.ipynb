{
  "cells": [
    {
      "metadata": {
        "trusted": true
      },
      "cell_type": "code",
      "source": "def xform(item):\n    data = {}\n    data[\"title\"] = item[\"title\"].encode(\"utf-8\", \"ignore\")\n    data[\"summary\"] = item[\"summary\"].encode(\"utf-8\", \"ignore\")\n    return data",
      "execution_count": null,
      "outputs": []
    },
    {
      "metadata": {
        "trusted": true
      },
      "cell_type": "code",
      "source": "def encoded(item, key):\n        return item[key].encode(\"utf-8\", \"ignore\")\n\ndef encode_news_item(item):\n    keys = (\"title\", \"summary\")\n    return {key: encoded(item, key) for key in keys}\n",
      "execution_count": null,
      "outputs": []
    },
    {
      "metadata": {
        "trusted": true
      },
      "cell_type": "code",
      "source": "def encode_news_item(item):\n    def encoded(key):\n        return item[key].encode(\"utf-8\", \"ignore\")\n    keys = (\"title\", \"summary\")\n    return {key: encoded(key) for key in keys}",
      "execution_count": null,
      "outputs": []
    }
  ],
  "metadata": {
    "kernelspec": {
      "name": "python36",
      "display_name": "Python 3.6",
      "language": "python"
    },
    "language_info": {
      "mimetype": "text/x-python",
      "nbconvert_exporter": "python",
      "name": "python",
      "pygments_lexer": "ipython3",
      "version": "3.6.6",
      "file_extension": ".py",
      "codemirror_mode": {
        "version": 3,
        "name": "ipython"
      }
    }
  },
  "nbformat": 4,
  "nbformat_minor": 1
}